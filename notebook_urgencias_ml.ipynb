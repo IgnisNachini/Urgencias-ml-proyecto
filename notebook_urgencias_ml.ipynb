{
 "cells": [
  {
   "cell_type": "markdown",
   "id": "ffa2226b",
   "metadata": {},
   "source": [
    "# Notebook de urgencias ML\n",
    "\n",
    "Este es el notebook principal."
   ]
  },
  {
   "cell_type": "code",
   "execution_count": null,
   "id": "800eec3d",
   "metadata": {},
   "outputs": [],
   "source": [
    "\n",
    "# CONFIG: ajusta la ruta y columnas de tu dataset\n",
    "DATA_CSV = \"data/er_triage.csv\"\n",
    "COLS = {\n",
    "    \"edad\": \"age\",\n",
    "    \"sexo\": \"sex\",\n",
    "    \"target_binario\": \"admitted\"\n",
    "}\n"
   ]
  }
 ],
 "metadata": {},
 "nbformat": 4,
 "nbformat_minor": 5
}
